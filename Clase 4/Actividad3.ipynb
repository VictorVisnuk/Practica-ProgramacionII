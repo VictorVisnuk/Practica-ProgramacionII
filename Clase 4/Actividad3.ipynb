{
 "cells": [
  {
   "attachments": {},
   "cell_type": "markdown",
   "metadata": {},
   "source": [
    "### Diccionarios ###"
   ]
  },
  {
   "attachments": {},
   "cell_type": "markdown",
   "metadata": {},
   "source": [
    "1."
   ]
  },
  {
   "cell_type": "code",
   "execution_count": 1,
   "metadata": {},
   "outputs": [
    {
     "name": "stdout",
     "output_type": "stream",
     "text": [
      "{'nombre': 'Victor', 'edad': 30, 'carrera': 'Tecnicatura en Ciencia de Datos e IA'}\n"
     ]
    }
   ],
   "source": [
    "alumno = {\n",
    "    \"nombre\": \"Victor\",\n",
    "    \"edad\": 30,\n",
    "    \"carrera\": \"Tecnicatura en Ciencia de Datos e IA\"\n",
    "}\n",
    "print(alumno)"
   ]
  },
  {
   "attachments": {},
   "cell_type": "markdown",
   "metadata": {},
   "source": [
    "2."
   ]
  },
  {
   "cell_type": "code",
   "execution_count": 3,
   "metadata": {},
   "outputs": [
    {
     "name": "stdout",
     "output_type": "stream",
     "text": [
      "Victor\n"
     ]
    }
   ],
   "source": [
    "print(alumno.get(\"nombre\"))"
   ]
  },
  {
   "attachments": {},
   "cell_type": "markdown",
   "metadata": {},
   "source": [
    "3."
   ]
  },
  {
   "cell_type": "code",
   "execution_count": 4,
   "metadata": {},
   "outputs": [
    {
     "name": "stdout",
     "output_type": "stream",
     "text": [
      "{'nombre': 'Victor', 'edad': 29, 'carrera': 'Tecnicatura en Ciencia de Datos e IA'}\n"
     ]
    }
   ],
   "source": [
    "alumno[\"edad\"] = 29\n",
    "print(alumno)"
   ]
  },
  {
   "attachments": {},
   "cell_type": "markdown",
   "metadata": {},
   "source": [
    "4."
   ]
  },
  {
   "cell_type": "code",
   "execution_count": 5,
   "metadata": {},
   "outputs": [
    {
     "name": "stdout",
     "output_type": "stream",
     "text": [
      "{'nombre': 'Victor', 'edad': 29, 'carrera': 'Tecnicatura en Ciencia de Datos e IA', 'genero': 'Masculino'}\n"
     ]
    }
   ],
   "source": [
    "alumno[\"genero\"] = \"Masculino\"\n",
    "print(alumno)"
   ]
  },
  {
   "attachments": {},
   "cell_type": "markdown",
   "metadata": {},
   "source": [
    "5."
   ]
  },
  {
   "cell_type": "code",
   "execution_count": 6,
   "metadata": {},
   "outputs": [
    {
     "name": "stdout",
     "output_type": "stream",
     "text": [
      "{'nombre': 'Victor', 'carrera': 'Tecnicatura en Ciencia de Datos e IA', 'genero': 'Masculino'}\n"
     ]
    }
   ],
   "source": [
    "alumno.pop(\"edad\")\n",
    "print(alumno)"
   ]
  },
  {
   "attachments": {},
   "cell_type": "markdown",
   "metadata": {},
   "source": [
    "6."
   ]
  },
  {
   "cell_type": "code",
   "execution_count": 9,
   "metadata": {},
   "outputs": [
    {
     "name": "stdout",
     "output_type": "stream",
     "text": [
      "{'Programación II': 8, 'Ciencia de Datos': 9, 'Programación I': 6}\n"
     ]
    }
   ],
   "source": [
    "notas = {\n",
    "    \"Programación II\" : 8,\n",
    "    \"Ciencia de Datos\": 9,\n",
    "    \"Programación I\": 6,\n",
    "}\n",
    "print(notas)"
   ]
  },
  {
   "attachments": {},
   "cell_type": "markdown",
   "metadata": {},
   "source": [
    "7."
   ]
  },
  {
   "cell_type": "code",
   "execution_count": 13,
   "metadata": {},
   "outputs": [
    {
     "name": "stdout",
     "output_type": "stream",
     "text": [
      "dict_items([('Programación II', 8), ('Ciencia de Datos', 9), ('Programación I', 6)])\n"
     ]
    }
   ],
   "source": [
    "print(notas.items())"
   ]
  },
  {
   "attachments": {},
   "cell_type": "markdown",
   "metadata": {},
   "source": [
    "8."
   ]
  },
  {
   "cell_type": "code",
   "execution_count": 11,
   "metadata": {},
   "outputs": [
    {
     "name": "stdout",
     "output_type": "stream",
     "text": [
      "{'Programación II': 8, 'Ciencia de Datos': 9, 'Programación I': 6}\n"
     ]
    }
   ],
   "source": [
    "copia_notas = notas.copy()\n",
    "print(copia_notas)"
   ]
  },
  {
   "attachments": {},
   "cell_type": "markdown",
   "metadata": {},
   "source": [
    "9."
   ]
  },
  {
   "cell_type": "code",
   "execution_count": 12,
   "metadata": {},
   "outputs": [
    {
     "name": "stdout",
     "output_type": "stream",
     "text": [
      "dict_values([8, 9, 6])\n"
     ]
    }
   ],
   "source": [
    "print(copia_notas.values())"
   ]
  },
  {
   "attachments": {},
   "cell_type": "markdown",
   "metadata": {},
   "source": [
    "10."
   ]
  },
  {
   "cell_type": "code",
   "execution_count": null,
   "metadata": {},
   "outputs": [],
   "source": [
    "print(len(notas))"
   ]
  }
 ],
 "metadata": {
  "kernelspec": {
   "display_name": "Python 3",
   "language": "python",
   "name": "python3"
  },
  "language_info": {
   "codemirror_mode": {
    "name": "ipython",
    "version": 3
   },
   "file_extension": ".py",
   "mimetype": "text/x-python",
   "name": "python",
   "nbconvert_exporter": "python",
   "pygments_lexer": "ipython3",
   "version": "3.11.3"
  },
  "orig_nbformat": 4
 },
 "nbformat": 4,
 "nbformat_minor": 2
}
