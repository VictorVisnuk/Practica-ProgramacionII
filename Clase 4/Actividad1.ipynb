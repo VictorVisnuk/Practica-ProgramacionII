{
 "cells": [
  {
   "attachments": {},
   "cell_type": "markdown",
   "metadata": {},
   "source": [
    "## Listas ##"
   ]
  },
  {
   "attachments": {},
   "cell_type": "markdown",
   "metadata": {},
   "source": [
    "1."
   ]
  },
  {
   "cell_type": "code",
   "execution_count": 10,
   "metadata": {},
   "outputs": [
    {
     "name": "stdout",
     "output_type": "stream",
     "text": [
      "['Tierra Del Fuego', 'Santa Cruz', 'Chubut', 'Rio Negro', 'Neuquen']\n"
     ]
    }
   ],
   "source": [
    "provincias = [\"Tierra Del Fuego\", \"Santa Cruz\", \"Chubut\", \"Rio Negro\", \"Neuquen\"]\n",
    "print(provincias)"
   ]
  },
  {
   "attachments": {},
   "cell_type": "markdown",
   "metadata": {},
   "source": [
    "2."
   ]
  },
  {
   "cell_type": "code",
   "execution_count": 2,
   "metadata": {},
   "outputs": [
    {
     "name": "stdout",
     "output_type": "stream",
     "text": [
      "Chubut\n"
     ]
    }
   ],
   "source": [
    "print(provincias[2])"
   ]
  },
  {
   "attachments": {},
   "cell_type": "markdown",
   "metadata": {},
   "source": [
    "3."
   ]
  },
  {
   "cell_type": "code",
   "execution_count": 3,
   "metadata": {},
   "outputs": [
    {
     "name": "stdout",
     "output_type": "stream",
     "text": [
      "['Santa Cruz', 'Chubut', 'Rio Negro']\n"
     ]
    }
   ],
   "source": [
    "print(provincias[1:4])"
   ]
  },
  {
   "attachments": {},
   "cell_type": "markdown",
   "metadata": {},
   "source": [
    "4."
   ]
  },
  {
   "cell_type": "code",
   "execution_count": 5,
   "metadata": {},
   "outputs": [
    {
     "name": "stdout",
     "output_type": "stream",
     "text": [
      "<class 'list'>\n"
     ]
    }
   ],
   "source": [
    "print(type(provincias))"
   ]
  },
  {
   "attachments": {},
   "cell_type": "markdown",
   "metadata": {},
   "source": [
    "5."
   ]
  },
  {
   "cell_type": "code",
   "execution_count": 6,
   "metadata": {},
   "outputs": [
    {
     "name": "stdout",
     "output_type": "stream",
     "text": [
      "['Tierra Del Fuego', 'Santa Cruz', 'Chubut', 'Rio Negro']\n"
     ]
    }
   ],
   "source": [
    "print(provincias[:4])"
   ]
  },
  {
   "attachments": {},
   "cell_type": "markdown",
   "metadata": {},
   "source": [
    "6."
   ]
  },
  {
   "cell_type": "code",
   "execution_count": 11,
   "metadata": {},
   "outputs": [
    {
     "name": "stdout",
     "output_type": "stream",
     "text": [
      "['Tierra Del Fuego', 'Santa Cruz', 'Chubut', 'Rio Negro', 'Neuquen', 'Tierra Del Fuego', 'La Pampa']\n"
     ]
    }
   ],
   "source": [
    "provincias.append(\"Tierra Del Fuego\")\n",
    "provincias.append(\"La Pampa\")\n",
    "print(provincias)"
   ]
  },
  {
   "attachments": {},
   "cell_type": "markdown",
   "metadata": {},
   "source": [
    "7."
   ]
  },
  {
   "cell_type": "code",
   "execution_count": 12,
   "metadata": {},
   "outputs": [
    {
     "name": "stdout",
     "output_type": "stream",
     "text": [
      "['Tierra Del Fuego', 'Santa Cruz', 'Chubut', 'Buenos Aires', 'Rio Negro', 'Neuquen', 'Tierra Del Fuego', 'La Pampa']\n"
     ]
    }
   ],
   "source": [
    "provincias.insert(3,\"Buenos Aires\")\n",
    "print(provincias)"
   ]
  },
  {
   "attachments": {},
   "cell_type": "markdown",
   "metadata": {},
   "source": [
    "8."
   ]
  },
  {
   "cell_type": "code",
   "execution_count": 13,
   "metadata": {},
   "outputs": [
    {
     "name": "stdout",
     "output_type": "stream",
     "text": [
      "['Tierra Del Fuego', 'Santa Cruz', 'Chubut', 'Buenos Aires', 'Rio Negro', 'Neuquen', 'Tierra Del Fuego', 'La Pampa', 'Jujuy', 'Salta', 'Formosa', 'Chaco']\n"
     ]
    }
   ],
   "source": [
    "provincias_del_norte = [\"Jujuy\",\"Salta\",\"Formosa\",\"Chaco\"]\n",
    "provincias.extend(provincias_del_norte)\n",
    "print(provincias)"
   ]
  },
  {
   "attachments": {},
   "cell_type": "markdown",
   "metadata": {},
   "source": [
    "9."
   ]
  },
  {
   "cell_type": "code",
   "execution_count": 14,
   "metadata": {},
   "outputs": [
    {
     "name": "stdout",
     "output_type": "stream",
     "text": [
      "['Tierra Del Fuego', 'Santa Cruz', 'Chubut', 'Buenos Aires', 'Rio Negro', 'Neuquen', 'La Pampa', 'Jujuy', 'Salta', 'Formosa', 'Chaco']\n"
     ]
    }
   ],
   "source": [
    "del(provincias[6])\n",
    "print(provincias)"
   ]
  },
  {
   "attachments": {},
   "cell_type": "markdown",
   "metadata": {},
   "source": [
    "10."
   ]
  },
  {
   "cell_type": "code",
   "execution_count": 15,
   "metadata": {},
   "outputs": [
    {
     "name": "stdout",
     "output_type": "stream",
     "text": [
      "Chaco\n"
     ]
    }
   ],
   "source": [
    "ultima_provincia = provincias.pop()\n",
    "print(ultima_provincia)"
   ]
  }
 ],
 "metadata": {
  "kernelspec": {
   "display_name": "Python 3",
   "language": "python",
   "name": "python3"
  },
  "language_info": {
   "codemirror_mode": {
    "name": "ipython",
    "version": 3
   },
   "file_extension": ".py",
   "mimetype": "text/x-python",
   "name": "python",
   "nbconvert_exporter": "python",
   "pygments_lexer": "ipython3",
   "version": "3.11.3"
  },
  "orig_nbformat": 4
 },
 "nbformat": 4,
 "nbformat_minor": 2
}
