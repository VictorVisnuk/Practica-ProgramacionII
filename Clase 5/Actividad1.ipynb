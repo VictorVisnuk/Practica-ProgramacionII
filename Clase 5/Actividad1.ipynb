{
 "cells": [
  {
   "attachments": {},
   "cell_type": "markdown",
   "metadata": {},
   "source": [
    "## Actividad 1 ##"
   ]
  },
  {
   "attachments": {},
   "cell_type": "markdown",
   "metadata": {},
   "source": [
    "1."
   ]
  },
  {
   "cell_type": "code",
   "execution_count": 2,
   "metadata": {},
   "outputs": [],
   "source": [
    "a = int(input(\"Ingrese el primer numero\"))\n",
    "b = int(input(\"Ingrese el segundo numero\"))\n",
    "if a>b:\n",
    "    print(\"Hola Politécnico Malvinas Argentinas\")"
   ]
  },
  {
   "attachments": {},
   "cell_type": "markdown",
   "metadata": {},
   "source": [
    "2."
   ]
  },
  {
   "cell_type": "code",
   "execution_count": 4,
   "metadata": {},
   "outputs": [],
   "source": [
    "a = int(input(\"Ingrese el primer numero\"))\n",
    "b = int(input(\"Ingrese el segundo numero\"))\n",
    "if a!=b:\n",
    "    print(\"Hola Politécnico Malvinas Argentinas\")"
   ]
  },
  {
   "attachments": {},
   "cell_type": "markdown",
   "metadata": {},
   "source": [
    "3."
   ]
  },
  {
   "cell_type": "code",
   "execution_count": 6,
   "metadata": {},
   "outputs": [
    {
     "name": "stdout",
     "output_type": "stream",
     "text": [
      "Son distintos\n"
     ]
    }
   ],
   "source": [
    "a = int(input(\"Ingrese el primer numero\"))\n",
    "b = int(input(\"Ingrese el segundo numero\"))\n",
    "if a==b:\n",
    "    print(\"Son iguales\")\n",
    "else:\n",
    "    print(\"Son distintos\")"
   ]
  },
  {
   "attachments": {},
   "cell_type": "markdown",
   "metadata": {},
   "source": [
    "4."
   ]
  },
  {
   "cell_type": "code",
   "execution_count": 12,
   "metadata": {},
   "outputs": [
    {
     "name": "stdout",
     "output_type": "stream",
     "text": [
      "1\n"
     ]
    }
   ],
   "source": [
    "a = int(input(\"Ingrese el primer numero\"))\n",
    "b = int(input(\"Ingrese el segundo numero\"))\n",
    "if a==b:\n",
    "    print(1)\n",
    "elif a>b:\n",
    "    print(2)\n",
    "else:\n",
    "    print(3)"
   ]
  },
  {
   "attachments": {},
   "cell_type": "markdown",
   "metadata": {},
   "source": [
    "5."
   ]
  },
  {
   "cell_type": "code",
   "execution_count": 20,
   "metadata": {},
   "outputs": [],
   "source": [
    "a = int(input(\"Ingrese el primer numero\"))\n",
    "b = int(input(\"Ingrese el segundo numero\"))\n",
    "c = int(input(\"Ingrese el tercer numero\"))\n",
    "d = int(input(\"Ingrese el cuarto numero\"))\n",
    "\n",
    "if (a==b) & (c==d):\n",
    "    print(\"Hola Politécnico Malvinas Argentinas\")"
   ]
  },
  {
   "attachments": {},
   "cell_type": "markdown",
   "metadata": {},
   "source": [
    "6."
   ]
  },
  {
   "cell_type": "code",
   "execution_count": 26,
   "metadata": {},
   "outputs": [
    {
     "name": "stdout",
     "output_type": "stream",
     "text": [
      "Hola Politécnico Malvinas Argentinas\n"
     ]
    }
   ],
   "source": [
    "a = int(input(\"Ingrese el primer numero\"))\n",
    "b = int(input(\"Ingrese el segundo numero\"))\n",
    "c = int(input(\"Ingrese el tercer numero\"))\n",
    "d = int(input(\"Ingrese el cuarto numero\"))\n",
    "\n",
    "if (a==b) | (c==d):\n",
    "    print(\"Hola Politécnico Malvinas Argentinas\")"
   ]
  },
  {
   "attachments": {},
   "cell_type": "markdown",
   "metadata": {},
   "source": [
    "7."
   ]
  },
  {
   "cell_type": "code",
   "execution_count": 29,
   "metadata": {},
   "outputs": [
    {
     "name": "stdout",
     "output_type": "stream",
     "text": [
      "Eres mayor de edad\n"
     ]
    }
   ],
   "source": [
    "edad = int(input(\"Ingrese su edad\"))\n",
    "if edad >= 18:\n",
    "    print(\"Eres mayor de edad\")\n",
    "else:\n",
    "    print(\"Eres menor de edad\")"
   ]
  },
  {
   "attachments": {},
   "cell_type": "markdown",
   "metadata": {},
   "source": [
    "8."
   ]
  },
  {
   "cell_type": "code",
   "execution_count": 31,
   "metadata": {},
   "outputs": [
    {
     "name": "stdout",
     "output_type": "stream",
     "text": [
      "El numero es impar\n"
     ]
    }
   ],
   "source": [
    "num = int(input(\"Ingrese un numero\"))\n",
    "print(\"El numero es \"+ (\"par\"if num%2 ==0 else \"impar\"))"
   ]
  },
  {
   "attachments": {},
   "cell_type": "markdown",
   "metadata": {},
   "source": [
    "9."
   ]
  },
  {
   "cell_type": "code",
   "execution_count": 35,
   "metadata": {},
   "outputs": [
    {
     "name": "stdout",
     "output_type": "stream",
     "text": [
      "El mayor de los tres numeros es: 123\n"
     ]
    }
   ],
   "source": [
    "lista_numeros = []\n",
    "lista_numeros.append(int(input(\"Ingrese el primer numero\")))\n",
    "lista_numeros.append(int(input(\"Ingrese el segundo numero\")))\n",
    "lista_numeros.append(int(input(\"Ingrese el tercer numero\")))\n",
    "\n",
    "print(\"El mayor de los tres numeros es: \" + str(max(lista_numeros)))\n",
    "\n"
   ]
  },
  {
   "attachments": {},
   "cell_type": "markdown",
   "metadata": {},
   "source": [
    "10."
   ]
  },
  {
   "cell_type": "code",
   "execution_count": 59,
   "metadata": {},
   "outputs": [
    {
     "name": "stdout",
     "output_type": "stream",
     "text": [
      "Bienvenido anonimo\n"
     ]
    }
   ],
   "source": [
    "nombre = input(\"Ingrese su nombre\")\n",
    "if (nombre != \"\") & (nombre != None):\n",
    "    print(\"Bienvenido\",nombre)\n",
    "else:\n",
    "    print(\"Bienvenido anonimo\")"
   ]
  }
 ],
 "metadata": {
  "kernelspec": {
   "display_name": "Python 3",
   "language": "python",
   "name": "python3"
  },
  "language_info": {
   "codemirror_mode": {
    "name": "ipython",
    "version": 3
   },
   "file_extension": ".py",
   "mimetype": "text/x-python",
   "name": "python",
   "nbconvert_exporter": "python",
   "pygments_lexer": "ipython3",
   "version": "3.11.3"
  },
  "orig_nbformat": 4
 },
 "nbformat": 4,
 "nbformat_minor": 2
}
