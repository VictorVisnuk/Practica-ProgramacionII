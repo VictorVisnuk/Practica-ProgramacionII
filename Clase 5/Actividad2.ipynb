{
 "cells": [
  {
   "attachments": {},
   "cell_type": "markdown",
   "metadata": {},
   "source": [
    "## Actividad 2 ##"
   ]
  },
  {
   "attachments": {},
   "cell_type": "markdown",
   "metadata": {},
   "source": [
    "1."
   ]
  },
  {
   "cell_type": "code",
   "execution_count": 2,
   "metadata": {},
   "outputs": [
    {
     "name": "stdout",
     "output_type": "stream",
     "text": [
      "1\n",
      "2\n",
      "3\n",
      "4\n",
      "5\n",
      "6\n",
      "7\n",
      "8\n",
      "9\n",
      "10\n",
      "11\n",
      "12\n",
      "13\n",
      "14\n",
      "15\n",
      "16\n",
      "17\n",
      "18\n",
      "19\n",
      "20\n"
     ]
    }
   ],
   "source": [
    "for i in range(1,21):\n",
    "    print(i)"
   ]
  },
  {
   "attachments": {},
   "cell_type": "markdown",
   "metadata": {},
   "source": [
    "2."
   ]
  },
  {
   "cell_type": "code",
   "execution_count": 6,
   "metadata": {},
   "outputs": [
    {
     "name": "stdout",
     "output_type": "stream",
     "text": [
      "2\n",
      "4\n",
      "6\n",
      "8\n",
      "10\n",
      "12\n",
      "14\n",
      "16\n",
      "18\n",
      "20\n"
     ]
    }
   ],
   "source": [
    "i=1\n",
    "while i <=20:\n",
    "    if i%2 ==0:\n",
    "        print(i)\n",
    "    i +=1"
   ]
  },
  {
   "attachments": {},
   "cell_type": "markdown",
   "metadata": {},
   "source": [
    "3."
   ]
  },
  {
   "cell_type": "code",
   "execution_count": 9,
   "metadata": {},
   "outputs": [
    {
     "name": "stdout",
     "output_type": "stream",
     "text": [
      "1\n",
      "3\n",
      "5\n",
      "7\n",
      "9\n",
      "11\n",
      "13\n",
      "15\n",
      "17\n",
      "19\n",
      "21\n",
      "23\n",
      "25\n",
      "27\n",
      "29\n"
     ]
    }
   ],
   "source": [
    "for i in range(1,31,2):\n",
    "    print(i)"
   ]
  },
  {
   "attachments": {},
   "cell_type": "markdown",
   "metadata": {},
   "source": [
    "4."
   ]
  },
  {
   "cell_type": "code",
   "execution_count": 13,
   "metadata": {},
   "outputs": [
    {
     "name": "stdout",
     "output_type": "stream",
     "text": [
      "123 por 1 = 123\n",
      "123 por 2 = 246\n",
      "123 por 3 = 369\n",
      "123 por 4 = 492\n",
      "123 por 5 = 615\n",
      "123 por 6 = 738\n",
      "123 por 7 = 861\n",
      "123 por 8 = 984\n",
      "123 por 9 = 1107\n",
      "123 por 10 = 1230\n"
     ]
    }
   ],
   "source": [
    "num = int(input(\"Ingrese un numero\"))\n",
    "for i in range(1,11):\n",
    "    resultado = num*i\n",
    "    print(num,\"por\",i,\"=\",resultado)"
   ]
  },
  {
   "attachments": {},
   "cell_type": "markdown",
   "metadata": {},
   "source": [
    "5."
   ]
  },
  {
   "cell_type": "code",
   "execution_count": 16,
   "metadata": {},
   "outputs": [
    {
     "name": "stdout",
     "output_type": "stream",
     "text": [
      "1\n",
      "2\n",
      "3 multiplo de 3\n",
      "4\n",
      "5 multiplo de 5\n",
      "6 multiplo de 3\n",
      "7\n",
      "8\n",
      "9 multiplo de 3\n",
      "10 multiplo de 5\n",
      "11\n",
      "12 multiplo de 3\n",
      "13\n",
      "14\n",
      "15 multiplo de 3 y de 5\n",
      "16\n",
      "17\n",
      "18 multiplo de 3\n",
      "19\n",
      "20 multiplo de 5\n",
      "21 multiplo de 3\n",
      "22\n",
      "23\n",
      "24 multiplo de 3\n",
      "25 multiplo de 5\n",
      "26\n",
      "27 multiplo de 3\n",
      "28\n",
      "29\n",
      "30 multiplo de 3 y de 5\n",
      "31\n",
      "32\n",
      "33 multiplo de 3\n",
      "34\n",
      "35 multiplo de 5\n",
      "36 multiplo de 3\n",
      "37\n",
      "38\n",
      "39 multiplo de 3\n",
      "40 multiplo de 5\n",
      "41\n",
      "42 multiplo de 3\n",
      "43\n",
      "44\n",
      "45 multiplo de 3 y de 5\n",
      "46\n",
      "47\n",
      "48 multiplo de 3\n",
      "49\n",
      "50 multiplo de 5\n",
      "51 multiplo de 3\n",
      "52\n",
      "53\n",
      "54 multiplo de 3\n",
      "55 multiplo de 5\n",
      "56\n",
      "57 multiplo de 3\n",
      "58\n",
      "59\n",
      "60 multiplo de 3 y de 5\n",
      "61\n",
      "62\n",
      "63 multiplo de 3\n",
      "64\n",
      "65 multiplo de 5\n",
      "66 multiplo de 3\n",
      "67\n",
      "68\n",
      "69 multiplo de 3\n",
      "70 multiplo de 5\n",
      "71\n",
      "72 multiplo de 3\n",
      "73\n",
      "74\n",
      "75 multiplo de 3 y de 5\n",
      "76\n",
      "77\n",
      "78 multiplo de 3\n",
      "79\n",
      "80 multiplo de 5\n",
      "81 multiplo de 3\n",
      "82\n",
      "83\n",
      "84 multiplo de 3\n",
      "85 multiplo de 5\n",
      "86\n",
      "87 multiplo de 3\n",
      "88\n",
      "89\n",
      "90 multiplo de 3 y de 5\n",
      "91\n",
      "92\n",
      "93 multiplo de 3\n",
      "94\n",
      "95 multiplo de 5\n",
      "96 multiplo de 3\n",
      "97\n",
      "98\n",
      "99 multiplo de 3\n",
      "100 multiplo de 5\n"
     ]
    }
   ],
   "source": [
    "for i in range (1,101):\n",
    "    if (i%3 == 0) & (i%5 == 0):\n",
    "        print (i,\"multiplo de 3 y de 5\")\n",
    "    elif i%3 == 0:\n",
    "        print (i,\"multiplo de 3\")\n",
    "    elif i%5 == 0:\n",
    "        print (i,\"multiplo de 5\")\n",
    "    else:\n",
    "        print(i)"
   ]
  },
  {
   "attachments": {},
   "cell_type": "markdown",
   "metadata": {},
   "source": [
    "6."
   ]
  },
  {
   "cell_type": "code",
   "execution_count": 43,
   "metadata": {},
   "outputs": [
    {
     "name": "stdout",
     "output_type": "stream",
     "text": [
      "Es un numero primo\n"
     ]
    }
   ],
   "source": [
    "num= int(input(\"Ingrese un numero\"))\n",
    "primo = True\n",
    "for i in range (num,1,-1):\n",
    "    if (num % i == 0) & (i!=num) :\n",
    "        primo = False\n",
    "        break\n",
    "if primo == True:\n",
    "    print(\"Es un numero primo\")\n",
    "else:\n",
    "    print(\"No es un numero primo ya que uno de sus divisores es:\",i)"
   ]
  },
  {
   "attachments": {},
   "cell_type": "markdown",
   "metadata": {},
   "source": [
    "7."
   ]
  },
  {
   "cell_type": "code",
   "execution_count": 46,
   "metadata": {},
   "outputs": [
    {
     "name": "stdout",
     "output_type": "stream",
     "text": [
      "[-20, -19, -18, -17, -16, -15, -14, -13, -12, -11, -10, -9, -8, -7, -6, -5, -4, -3, -2, -1]\n"
     ]
    }
   ],
   "source": [
    "lista = []\n",
    "i=-20\n",
    "while i < 0:\n",
    "    lista.append(i)\n",
    "    i +=1\n",
    "print(lista)"
   ]
  },
  {
   "attachments": {},
   "cell_type": "markdown",
   "metadata": {},
   "source": [
    "8."
   ]
  },
  {
   "cell_type": "code",
   "execution_count": 52,
   "metadata": {},
   "outputs": [
    {
     "name": "stdout",
     "output_type": "stream",
     "text": [
      "[12]\n"
     ]
    }
   ],
   "source": [
    "cadena = \"Hola Politécnico\"\n",
    "indices = []\n",
    "for i in range(len(cadena)):\n",
    "    if cadena[i] == \"n\":\n",
    "        indices.append(i)\n",
    "print(indices)\n",
    "    "
   ]
  },
  {
   "attachments": {},
   "cell_type": "markdown",
   "metadata": {},
   "source": [
    "9."
   ]
  },
  {
   "cell_type": "code",
   "execution_count": 53,
   "metadata": {},
   "outputs": [
    {
     "name": "stdout",
     "output_type": "stream",
     "text": [
      "H\n",
      "o\n",
      "l\n",
      "a\n",
      " \n",
      "P\n",
      "o\n",
      "l\n",
      "i\n",
      "t\n",
      "é\n",
      "c\n",
      "n\n",
      "i\n",
      "c\n",
      "o\n"
     ]
    }
   ],
   "source": [
    "lista_cadena = list(cadena)\n",
    "for e in lista_cadena:\n",
    "    print(e)"
   ]
  },
  {
   "attachments": {},
   "cell_type": "markdown",
   "metadata": {},
   "source": [
    "10"
   ]
  },
  {
   "cell_type": "code",
   "execution_count": 54,
   "metadata": {},
   "outputs": [
    {
     "name": "stdout",
     "output_type": "stream",
     "text": [
      "[25, 35, 50, 60, 100]\n"
     ]
    }
   ],
   "source": [
    "lista1 = [18,25,29,32,35,42,50,60,63,100]\n",
    "divisibles_por_5 = []\n",
    "for num in lista1:\n",
    "    if num % 5 == 0:\n",
    "        divisibles_por_5.append(num)\n",
    "\n",
    "print(divisibles_por_5)"
   ]
  },
  {
   "attachments": {},
   "cell_type": "markdown",
   "metadata": {},
   "source": [
    "11."
   ]
  },
  {
   "cell_type": "code",
   "execution_count": 65,
   "metadata": {},
   "outputs": [
    {
     "name": "stdout",
     "output_type": "stream",
     "text": [
      "2\n",
      "3\n",
      "5\n",
      "7\n",
      "11\n",
      "13\n",
      "17\n",
      "19\n",
      "23\n",
      "29\n",
      "31\n",
      "37\n",
      "41\n",
      "43\n",
      "47\n",
      "53\n",
      "59\n",
      "61\n",
      "67\n",
      "71\n",
      "73\n",
      "79\n",
      "83\n",
      "89\n",
      "97\n"
     ]
    }
   ],
   "source": [
    "num = 2\n",
    "while num <=100:\n",
    "    primo = True\n",
    "    for d in range (num,1,-1):\n",
    "        if (num % d == 0)& (num !=d):\n",
    "            primo = False\n",
    "            break\n",
    "    if primo == True:\n",
    "        print(num)\n",
    "    num +=1\n",
    "            \n",
    "        "
   ]
  },
  {
   "attachments": {},
   "cell_type": "markdown",
   "metadata": {},
   "source": [
    "12."
   ]
  },
  {
   "cell_type": "code",
   "execution_count": 66,
   "metadata": {},
   "outputs": [
    {
     "name": "stdout",
     "output_type": "stream",
     "text": [
      "10\n",
      "9\n",
      "8\n",
      "7\n",
      "6\n",
      "5\n",
      "4\n",
      "3\n",
      "2\n",
      "1\n"
     ]
    }
   ],
   "source": [
    "num = 10\n",
    "while num >0:\n",
    "    print(num)\n",
    "    num -=1"
   ]
  },
  {
   "attachments": {},
   "cell_type": "markdown",
   "metadata": {},
   "source": [
    "13."
   ]
  },
  {
   "cell_type": "code",
   "execution_count": 68,
   "metadata": {},
   "outputs": [
    {
     "name": "stdout",
     "output_type": "stream",
     "text": [
      "1\n",
      "2\n",
      "4\n",
      "5\n",
      "7\n",
      "8\n",
      "10\n",
      "11\n",
      "13\n",
      "14\n",
      "16\n",
      "17\n",
      "19\n",
      "20\n",
      "22\n",
      "23\n",
      "25\n",
      "26\n",
      "28\n",
      "29\n"
     ]
    }
   ],
   "source": [
    "for num in range(1,31):\n",
    "    if num % 3 == 0:\n",
    "        continue\n",
    "    print(num)"
   ]
  },
  {
   "attachments": {},
   "cell_type": "markdown",
   "metadata": {},
   "source": [
    "14."
   ]
  },
  {
   "cell_type": "code",
   "execution_count": 70,
   "metadata": {},
   "outputs": [
    {
     "name": "stdout",
     "output_type": "stream",
     "text": [
      "En la palabra calabaza hay 4 letras a.\n"
     ]
    }
   ],
   "source": [
    "cadena = input(\"Ingrese una palabra\")\n",
    "cantidad_letra_a = 0\n",
    "for letra in cadena:\n",
    "    if letra == 'a':\n",
    "        cantidad_letra_a +=1\n",
    "print(\"En la palabra\", cadena, \"hay\",cantidad_letra_a, \"letras a.\")"
   ]
  },
  {
   "attachments": {},
   "cell_type": "markdown",
   "metadata": {},
   "source": [
    "15."
   ]
  },
  {
   "cell_type": "code",
   "execution_count": 72,
   "metadata": {},
   "outputs": [
    {
     "name": "stdout",
     "output_type": "stream",
     "text": [
      "Hay un Audi\n"
     ]
    }
   ],
   "source": [
    "marcas =['Ford','Renault','Peugeot','Audi','Toyota']\n",
    "\n",
    "for marca in marcas:\n",
    "    if marca == \"Audi\":\n",
    "        print(\"Hay un Audi\")\n",
    "        break"
   ]
  }
 ],
 "metadata": {
  "kernelspec": {
   "display_name": "Python 3",
   "language": "python",
   "name": "python3"
  },
  "language_info": {
   "codemirror_mode": {
    "name": "ipython",
    "version": 3
   },
   "file_extension": ".py",
   "mimetype": "text/x-python",
   "name": "python",
   "nbconvert_exporter": "python",
   "pygments_lexer": "ipython3",
   "version": "3.11.3"
  },
  "orig_nbformat": 4
 },
 "nbformat": 4,
 "nbformat_minor": 2
}
