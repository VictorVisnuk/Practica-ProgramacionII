{
 "cells": [
  {
   "attachments": {},
   "cell_type": "markdown",
   "metadata": {},
   "source": [
    "# CLASE N° 9 #\n",
    "## Actividad 1 ##"
   ]
  },
  {
   "attachments": {},
   "cell_type": "markdown",
   "metadata": {},
   "source": [
    "1. Crea la clase base \"Persona\" con los siguientes atributos:\n",
    "○ nombre\n",
    "○ edad.\n",
    "Incluir un constructor que inicialice los atributos"
   ]
  },
  {
   "cell_type": "code",
   "execution_count": 5,
   "metadata": {},
   "outputs": [
    {
     "name": "stdout",
     "output_type": "stream",
     "text": [
      "Victor 30\n"
     ]
    }
   ],
   "source": [
    "class Persona:\n",
    "    def __init__(self,nombre,edad):\n",
    "        self.nombre = nombre\n",
    "        self.edad = edad\n",
    "\n",
    "persona1 = Persona(\"Victor\",30)\n",
    "print(persona1.nombre,persona1.edad)"
   ]
  },
  {
   "attachments": {},
   "cell_type": "markdown",
   "metadata": {},
   "source": [
    "2. Crea la clase base \"Vehículo\" con los siguientes atributos:\n",
    "○ marca\n",
    "○ modelo.\n",
    "Incluir un constructor que inicialice los atributos\n"
   ]
  },
  {
   "cell_type": "code",
   "execution_count": 10,
   "metadata": {},
   "outputs": [
    {
     "name": "stdout",
     "output_type": "stream",
     "text": [
      "Renault Sandero\n"
     ]
    }
   ],
   "source": [
    "class Vehiculo:\n",
    "    def __init__(self,marca,modelo):\n",
    "        self.marca = marca\n",
    "        self.modelo = modelo\n",
    "\n",
    "auto1 = Vehiculo(\"Renault\",\"Sandero\")\n",
    "print(auto1.marca,auto1.modelo)"
   ]
  },
  {
   "attachments": {},
   "cell_type": "markdown",
   "metadata": {},
   "source": [
    "3. Crea la clase base \"Animal\" con los siguientes atributos:\n",
    "○ nombre\n",
    "○ edad\n",
    "○ especie.\n",
    "Incluir un constructor que inicialice los atributos\n"
   ]
  },
  {
   "cell_type": "code",
   "execution_count": 11,
   "metadata": {},
   "outputs": [
    {
     "name": "stdout",
     "output_type": "stream",
     "text": [
      "El animal se llama Alex, tiene 5 años y es de la especie León\n"
     ]
    }
   ],
   "source": [
    "class Animal:\n",
    "    def __init__(self,nombre,edad,especie):\n",
    "        self.nombre = nombre\n",
    "        self.edad = edad\n",
    "        self.especie = especie\n",
    "        \n",
    "animal1 = Animal(\"Alex\",5,\"León\")\n",
    "print(f\"El animal se llama {animal1.nombre}, tiene {animal1.edad} años y es de la especie {animal1.especie}\")"
   ]
  },
  {
   "attachments": {},
   "cell_type": "markdown",
   "metadata": {},
   "source": [
    "4. Crea una clase \"Estudiante\" que herede de \"Persona\" y tenga un\n",
    "atributo adicional \"escuela\". Agrega métodos para imprimir la\n",
    "información del estudiante.\n"
   ]
  },
  {
   "cell_type": "code",
   "execution_count": 15,
   "metadata": {},
   "outputs": [
    {
     "name": "stdout",
     "output_type": "stream",
     "text": [
      "El estudiante se llama Victor tiene 30 años y asiste a Politécnico Malvinas Argentinas\n"
     ]
    }
   ],
   "source": [
    "class Estudiante(Persona):\n",
    "    def __init__(self, nombre, edad,escuela):\n",
    "        super().__init__(nombre, edad)\n",
    "        self.escuela = escuela\n",
    "        \n",
    "    def get_info (self):\n",
    "        print(f\"El estudiante se llama {self.nombre} tiene {self.edad} años y asiste a {self.escuela}\")\n",
    "\n",
    "estudiante1 = Estudiante(\"Victor\",30,\"Politécnico Malvinas Argentinas\")\n",
    "estudiante1.get_info()"
   ]
  },
  {
   "attachments": {},
   "cell_type": "markdown",
   "metadata": {},
   "source": [
    "5. Crea una clase \"Empleado\" que herede de \"Persona\" y tenga atributos\n",
    "adicionales como \"empresa\" y \"puesto\". Agrega métodos para imprimir\n",
    "la información del empleado.\n"
   ]
  },
  {
   "cell_type": "code",
   "execution_count": 14,
   "metadata": {},
   "outputs": [
    {
     "ename": "TypeError",
     "evalue": "descriptor '__init__' requires a 'super' object but received a 'str'",
     "output_type": "error",
     "traceback": [
      "\u001b[1;31m---------------------------------------------------------------------------\u001b[0m",
      "\u001b[1;31mTypeError\u001b[0m                                 Traceback (most recent call last)",
      "Cell \u001b[1;32mIn[14], line 10\u001b[0m\n\u001b[0;32m      7\u001b[0m     \u001b[39mdef\u001b[39;00m \u001b[39mget_info\u001b[39m(\u001b[39mself\u001b[39m):\n\u001b[0;32m      8\u001b[0m         \u001b[39mprint\u001b[39m(\u001b[39mf\u001b[39m\u001b[39m\"\u001b[39m\u001b[39mEl empleado se llama \u001b[39m\u001b[39m{\u001b[39;00m\u001b[39mself\u001b[39m\u001b[39m.\u001b[39mnombre\u001b[39m}\u001b[39;00m\u001b[39m tiene \u001b[39m\u001b[39m{\u001b[39;00m\u001b[39mself\u001b[39m\u001b[39m.\u001b[39medad\u001b[39m}\u001b[39;00m\u001b[39m años trabaja en \u001b[39m\u001b[39m{\u001b[39;00m\u001b[39mself\u001b[39m\u001b[39m.\u001b[39mempresa\u001b[39m}\u001b[39;00m\u001b[39m en el puesto \u001b[39m\u001b[39m{\u001b[39;00m\u001b[39mself\u001b[39m\u001b[39m.\u001b[39mpuesto\u001b[39m}\u001b[39;00m\u001b[39m\"\u001b[39m)\n\u001b[1;32m---> 10\u001b[0m empleado1 \u001b[39m=\u001b[39m Empleado(\u001b[39m\"\u001b[39;49m\u001b[39mVictor\u001b[39;49m\u001b[39m\"\u001b[39;49m, \u001b[39m30\u001b[39;49m, \u001b[39m\"\u001b[39;49m\u001b[39mElemsoft\u001b[39;49m\u001b[39m\"\u001b[39;49m,\u001b[39m\"\u001b[39;49m\u001b[39mProgramador\u001b[39;49m\u001b[39m\"\u001b[39;49m)\n\u001b[0;32m     11\u001b[0m empleado1\u001b[39m.\u001b[39mget_info()\n",
      "Cell \u001b[1;32mIn[14], line 3\u001b[0m, in \u001b[0;36mEmpleado.__init__\u001b[1;34m(self, nombre, edad, empresa, puesto)\u001b[0m\n\u001b[0;32m      2\u001b[0m \u001b[39mdef\u001b[39;00m \u001b[39m__init__\u001b[39m(\u001b[39mself\u001b[39m,nombre,edad,empresa,puesto):\n\u001b[1;32m----> 3\u001b[0m     \u001b[39msuper\u001b[39;49m\u001b[39m.\u001b[39;49m\u001b[39m__init__\u001b[39;49m(nombre,edad)\n\u001b[0;32m      4\u001b[0m     \u001b[39mself\u001b[39m\u001b[39m.\u001b[39mempresa \u001b[39m=\u001b[39m empresa\n\u001b[0;32m      5\u001b[0m     \u001b[39mself\u001b[39m\u001b[39m.\u001b[39mpuesto \u001b[39m=\u001b[39m puesto\n",
      "\u001b[1;31mTypeError\u001b[0m: descriptor '__init__' requires a 'super' object but received a 'str'"
     ]
    }
   ],
   "source": [
    "class Empleado(Persona):\n",
    "    def __init__(self,nombre,edad,empresa,puesto):\n",
    "        super().__init__(nombre,edad)\n",
    "        self.empresa = empresa\n",
    "        self.puesto = puesto\n",
    "        \n",
    "    def get_info(self):\n",
    "        print(f\"El empleado se llama {self.nombre} tiene {self.edad} años trabaja en {self.empresa} en el puesto {self.puesto}\")\n",
    "    \n",
    "empleado1 = Empleado(\"Victor\", 30, \"Elemsoft\",\"Programador\")\n",
    "empleado1.get_info()"
   ]
  },
  {
   "attachments": {},
   "cell_type": "markdown",
   "metadata": {},
   "source": [
    "6. Crea una clase \"Coche\" que herede de \"Vehículo\" y tenga atributos\n",
    "adicionales como \"color\" y \"velocidad\". Agrega métodos para\n",
    "imprimir la información del coche.\n"
   ]
  },
  {
   "cell_type": "code",
   "execution_count": null,
   "metadata": {},
   "outputs": [],
   "source": []
  },
  {
   "attachments": {},
   "cell_type": "markdown",
   "metadata": {},
   "source": [
    "7. Crea una clase \"Perro\" que herede de \"Animal\" y tenga un atributo\n",
    "adicional \"raza\". Agrega métodos para imprimir la información del\n",
    "gato.\n"
   ]
  },
  {
   "cell_type": "code",
   "execution_count": null,
   "metadata": {},
   "outputs": [],
   "source": []
  },
  {
   "attachments": {},
   "cell_type": "markdown",
   "metadata": {},
   "source": [
    "8. Crea una clase\n",
    "\"EstudianteUniversitario\" que herede de \"Estudiante\" y tenga\n",
    "atributos adicionales como \"carrera\" y \"semestre\". Agrega métodos\n",
    "para imprimir la información del estudiante universitario.\n"
   ]
  },
  {
   "cell_type": "code",
   "execution_count": null,
   "metadata": {},
   "outputs": [],
   "source": []
  },
  {
   "attachments": {},
   "cell_type": "markdown",
   "metadata": {},
   "source": [
    "9.  Crea una clase \"Camioneta\" que herede de \"Vehículo\" y tenga un\n",
    "atributo adicional \"capacidad_carga\". Agrega métodos para imprimir\n",
    "la información de la camioneta.\n"
   ]
  },
  {
   "cell_type": "code",
   "execution_count": null,
   "metadata": {},
   "outputs": [],
   "source": []
  },
  {
   "attachments": {},
   "cell_type": "markdown",
   "metadata": {},
   "source": [
    "10. Crea una clase \"Profesor\" que herede de \"Empleado\" y tenga\n",
    "atributos adicionales como \"materia\" y \"experiencia\". Agrega\n",
    "métodos para imprimir la información del profesor.\n"
   ]
  },
  {
   "cell_type": "code",
   "execution_count": null,
   "metadata": {},
   "outputs": [],
   "source": []
  },
  {
   "attachments": {},
   "cell_type": "markdown",
   "metadata": {},
   "source": [
    "11.  Crea una clase \"Motocicleta\" que herede de \"Vehículo\" y tenga\n",
    "atributos adicionales como \"cilindrada\" y \"marca\". Agrega métodos\n",
    "para imprimir la información de la motocicleta"
   ]
  },
  {
   "cell_type": "code",
   "execution_count": null,
   "metadata": {},
   "outputs": [],
   "source": []
  },
  {
   "attachments": {},
   "cell_type": "markdown",
   "metadata": {},
   "source": [
    "12. Crea una clase \"Ave\" que herede de \"Animal\" y tenga atributos\n",
    "adicionales como \"especie\" y \"habitat\". Agrega métodos para\n",
    "imprimir la información del ave"
   ]
  },
  {
   "cell_type": "code",
   "execution_count": null,
   "metadata": {},
   "outputs": [],
   "source": []
  },
  {
   "attachments": {},
   "cell_type": "markdown",
   "metadata": {},
   "source": [
    "13. Crea una clase \"Cliente\" que herede de \"Persona\" y tenga atributos\n",
    "adicionales como \"direccion\" y \"telefono\". Agrega métodos para\n",
    "imprimir la información del cliente."
   ]
  },
  {
   "cell_type": "code",
   "execution_count": null,
   "metadata": {},
   "outputs": [],
   "source": []
  },
  {
   "attachments": {},
   "cell_type": "markdown",
   "metadata": {},
   "source": [
    "14. Crea una clase \"Bicicleta\" que herede de \"Vehículo\" y tenga atributos\n",
    "adicionales como \"tipo\""
   ]
  },
  {
   "cell_type": "code",
   "execution_count": null,
   "metadata": {},
   "outputs": [],
   "source": []
  }
 ],
 "metadata": {
  "kernelspec": {
   "display_name": "Python 3",
   "language": "python",
   "name": "python3"
  },
  "language_info": {
   "codemirror_mode": {
    "name": "ipython",
    "version": 3
   },
   "file_extension": ".py",
   "mimetype": "text/x-python",
   "name": "python",
   "nbconvert_exporter": "python",
   "pygments_lexer": "ipython3",
   "version": "3.11.3"
  },
  "orig_nbformat": 4
 },
 "nbformat": 4,
 "nbformat_minor": 2
}
