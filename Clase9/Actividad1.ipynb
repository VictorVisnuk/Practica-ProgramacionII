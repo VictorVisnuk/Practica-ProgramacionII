{
 "cells": [
  {
   "attachments": {},
   "cell_type": "markdown",
   "metadata": {},
   "source": [
    "# CLASE N° 9 #\n",
    "## Actividad 1 ##"
   ]
  },
  {
   "attachments": {},
   "cell_type": "markdown",
   "metadata": {},
   "source": [
    "1. Crea la clase base \"Persona\" con los siguientes atributos:\n",
    "○ nombre\n",
    "○ edad.\n",
    "Incluir un constructor que inicialice los atributos"
   ]
  },
  {
   "cell_type": "code",
   "execution_count": 5,
   "metadata": {},
   "outputs": [
    {
     "name": "stdout",
     "output_type": "stream",
     "text": [
      "Victor 30\n"
     ]
    }
   ],
   "source": [
    "class Persona:\n",
    "    def __init__(self,nombre,edad):\n",
    "        self.nombre = nombre\n",
    "        self.edad = edad\n",
    "\n",
    "persona1 = Persona(\"Victor\",30)\n",
    "print(persona1.nombre,persona1.edad)"
   ]
  },
  {
   "attachments": {},
   "cell_type": "markdown",
   "metadata": {},
   "source": [
    "2. Crea la clase base \"Vehículo\" con los siguientes atributos:\n",
    "○ marca\n",
    "○ modelo.\n",
    "Incluir un constructor que inicialice los atributos\n"
   ]
  },
  {
   "cell_type": "code",
   "execution_count": 10,
   "metadata": {},
   "outputs": [
    {
     "name": "stdout",
     "output_type": "stream",
     "text": [
      "Renault Sandero\n"
     ]
    }
   ],
   "source": [
    "class Vehiculo:\n",
    "    def __init__(self,marca,modelo):\n",
    "        self.marca = marca\n",
    "        self.modelo = modelo\n",
    "\n",
    "auto1 = Vehiculo(\"Renault\",\"Sandero\")\n",
    "print(auto1.marca,auto1.modelo)"
   ]
  },
  {
   "attachments": {},
   "cell_type": "markdown",
   "metadata": {},
   "source": [
    "3. Crea la clase base \"Animal\" con los siguientes atributos:\n",
    "○ nombre\n",
    "○ edad\n",
    "○ especie.\n",
    "Incluir un constructor que inicialice los atributos\n"
   ]
  },
  {
   "cell_type": "code",
   "execution_count": 11,
   "metadata": {},
   "outputs": [
    {
     "name": "stdout",
     "output_type": "stream",
     "text": [
      "El animal se llama Alex, tiene 5 años y es de la especie León\n"
     ]
    }
   ],
   "source": [
    "class Animal:\n",
    "    def __init__(self,nombre,edad,especie):\n",
    "        self.nombre = nombre\n",
    "        self.edad = edad\n",
    "        self.especie = especie\n",
    "        \n",
    "animal1 = Animal(\"Alex\",5,\"León\")\n",
    "print(f\"El animal se llama {animal1.nombre}, tiene {animal1.edad} años y es de la especie {animal1.especie}\")"
   ]
  },
  {
   "attachments": {},
   "cell_type": "markdown",
   "metadata": {},
   "source": [
    "4. Crea una clase \"Estudiante\" que herede de \"Persona\" y tenga un\n",
    "atributo adicional \"escuela\". Agrega métodos para imprimir la\n",
    "información del estudiante.\n"
   ]
  },
  {
   "cell_type": "code",
   "execution_count": 15,
   "metadata": {},
   "outputs": [
    {
     "name": "stdout",
     "output_type": "stream",
     "text": [
      "El estudiante se llama Victor tiene 30 años y asiste a Politécnico Malvinas Argentinas\n"
     ]
    }
   ],
   "source": [
    "class Estudiante(Persona):\n",
    "    def __init__(self, nombre, edad,escuela):\n",
    "        super().__init__(nombre, edad)\n",
    "        self.escuela = escuela\n",
    "        \n",
    "    def get_info (self):\n",
    "        print(f\"El estudiante se llama {self.nombre} tiene {self.edad} años y asiste a {self.escuela}\")\n",
    "\n",
    "estudiante1 = Estudiante(\"Victor\",30,\"Politécnico Malvinas Argentinas\")\n",
    "estudiante1.get_info()"
   ]
  },
  {
   "attachments": {},
   "cell_type": "markdown",
   "metadata": {},
   "source": [
    "5. Crea una clase \"Empleado\" que herede de \"Persona\" y tenga atributos\n",
    "adicionales como \"empresa\" y \"puesto\". Agrega métodos para imprimir\n",
    "la información del empleado.\n"
   ]
  },
  {
   "cell_type": "code",
   "execution_count": 18,
   "metadata": {},
   "outputs": [
    {
     "name": "stdout",
     "output_type": "stream",
     "text": [
      "Jorge de 43 años es Programador en ClassObjectSoft.\n"
     ]
    }
   ],
   "source": [
    "class Empleado(Persona):\n",
    "    def __init__(self,nombre,edad,empresa,puesto):\n",
    "        super().__init__(nombre,edad)\n",
    "        self.empresa = empresa\n",
    "        self.puesto = puesto\n",
    "        \n",
    "    def get_info(self):\n",
    "        print(f\"{self.nombre} de {self.edad} años es {self.puesto} en {self.empresa}.\")\n",
    "    \n",
    "empleado1 = Empleado(\"Jorge\", 43, \"ClassObjectSoft\",\"Programador\")\n",
    "empleado1.get_info()"
   ]
  },
  {
   "attachments": {},
   "cell_type": "markdown",
   "metadata": {},
   "source": [
    "6. Crea una clase \"Coche\" que herede de \"Vehículo\" y tenga atributos\n",
    "adicionales como \"color\" y \"velocidad\". Agrega métodos para\n",
    "imprimir la información del coche.\n"
   ]
  },
  {
   "cell_type": "code",
   "execution_count": 21,
   "metadata": {},
   "outputs": [
    {
     "name": "stdout",
     "output_type": "stream",
     "text": [
      "El coche es un Lamborghini Huracan Sterrato dorado con velocidad maxima de 260 km/h.\n"
     ]
    }
   ],
   "source": [
    "class Coche(Vehiculo):\n",
    "    def __init__(self,marca,modelo,color,velocidad):\n",
    "        super().__init__(marca,modelo)\n",
    "        self.color = color\n",
    "        self.velocidad = velocidad\n",
    "    def get_info(self):\n",
    "        print(f\"El coche es un {self.marca} {self.modelo} {self.color} con velocidad maxima de {self.velocidad} km/h.\")\n",
    "\n",
    "coche1 = Coche(\"Lamborghini\",\"Huracan Sterrato\",\"dorado\", 260)\n",
    "coche1.get_info()"
   ]
  },
  {
   "attachments": {},
   "cell_type": "markdown",
   "metadata": {},
   "source": [
    "7. Crea una clase \"Perro\" que herede de \"Animal\" y tenga un atributo\n",
    "adicional \"raza\". Agrega métodos para imprimir la información del\n",
    "gato.\n"
   ]
  },
  {
   "cell_type": "code",
   "execution_count": 28,
   "metadata": {},
   "outputs": [
    {
     "name": "stdout",
     "output_type": "stream",
     "text": [
      "Bob es un perro Bulldog de 7 años.\n"
     ]
    }
   ],
   "source": [
    "class Perro(Animal):\n",
    "    def __init__(self, nombre, edad,raza):\n",
    "        super().__init__(nombre, edad,\"perro\")\n",
    "        self.raza = raza\n",
    "    def get_info(self):\n",
    "        print(f\"{self.nombre} es un {self.especie} {self.raza} de {self.edad} años.\")\n",
    "\n",
    "perro1 = Perro(\"Bob\",7,\"Bulldog\")\n",
    "perro1.get_info()"
   ]
  },
  {
   "attachments": {},
   "cell_type": "markdown",
   "metadata": {},
   "source": [
    "8. Crea una clase\n",
    "\"EstudianteUniversitario\" que herede de \"Estudiante\" y tenga\n",
    "atributos adicionales como \"carrera\" y \"semestre\". Agrega métodos\n",
    "para imprimir la información del estudiante universitario.\n"
   ]
  },
  {
   "cell_type": "code",
   "execution_count": 32,
   "metadata": {},
   "outputs": [
    {
     "name": "stdout",
     "output_type": "stream",
     "text": [
      "Victor tiene 30 años y esta en el semestre N° 2 de Técnicatura en Ciencia de Datos e Inteligencia Artificial en Politécnico Malvinas Argentinas\n"
     ]
    }
   ],
   "source": [
    "class EstudianteUniversitario(Estudiante):\n",
    "    def __init__(self, nombre, edad, escuela,carrera,semestre):\n",
    "        super().__init__(nombre, edad, escuela)\n",
    "        self.carrera = carrera\n",
    "        self.semestre = semestre\n",
    "    def get_info(self):\n",
    "        print(f\"{self.nombre} tiene {self.edad} años y esta en el semestre N° {self.semestre} de {self.carrera} en {self.escuela}\")\n",
    "\n",
    "estudianteUniversitario1 = EstudianteUniversitario(\"Victor\", 30, \"Politécnico Malvinas Argentinas\", \"Técnicatura en Ciencia de Datos e Inteligencia Artificial\", 2)\n",
    "estudianteUniversitario1.get_info()"
   ]
  },
  {
   "attachments": {},
   "cell_type": "markdown",
   "metadata": {},
   "source": [
    "9.  Crea una clase \"Camioneta\" que herede de \"Vehículo\" y tenga un\n",
    "atributo adicional \"capacidad_carga\". Agrega métodos para imprimir\n",
    "la información de la camioneta.\n"
   ]
  },
  {
   "cell_type": "code",
   "execution_count": 33,
   "metadata": {},
   "outputs": [
    {
     "name": "stdout",
     "output_type": "stream",
     "text": [
      "La camioneta Toyota Rav4 tiene 510kg kilos de capacidad de carga\n"
     ]
    }
   ],
   "source": [
    "class Camioneta(Vehiculo):\n",
    "    def __init__(self, marca, modelo, capacidad_carga):\n",
    "        super().__init__(marca, modelo)\n",
    "        self.capacidad_carga = capacidad_carga\n",
    "    \n",
    "    def get_info(self):\n",
    "        print(f\"La camioneta {self.marca} {self.modelo} tiene {self.capacidad_carga} kilos de capacidad de carga\")\n",
    "\n",
    "camioneta1 = Camioneta(\"Toyota\", \"Rav4\",\"510kg\")\n",
    "camioneta1.get_info()"
   ]
  },
  {
   "attachments": {},
   "cell_type": "markdown",
   "metadata": {},
   "source": [
    "10. Crea una clase \"Profesor\" que herede de \"Empleado\" y tenga\n",
    "atributos adicionales como \"materia\" y \"experiencia\". Agrega\n",
    "métodos para imprimir la información del profesor.\n"
   ]
  },
  {
   "cell_type": "code",
   "execution_count": 37,
   "metadata": {},
   "outputs": [
    {
     "name": "stdout",
     "output_type": "stream",
     "text": [
      "Julio de 54 años de edad es profesor/a en UTN y dicta Matematica hace 8 años.\n"
     ]
    }
   ],
   "source": [
    "class Profesor(Empleado):\n",
    "    def __init__(self, nombre, edad, empresa, materia, experiencia):\n",
    "        super().__init__(nombre, edad, empresa, \"profesor/a\")\n",
    "        self.materia = materia\n",
    "        self.experiencia = experiencia\n",
    "    def get_info(self):\n",
    "        print(f\"{self.nombre} de {self.edad} años de edad es {self.puesto} en {self.empresa} y dicta {self.materia} hace {self.experiencia} años.\")\n",
    "    \n",
    "profesor1 = Profesor(\"Julio\", 54, \"UTN\", \"Matematica\", 8)\n",
    "profesor1.get_info()"
   ]
  },
  {
   "attachments": {},
   "cell_type": "markdown",
   "metadata": {},
   "source": [
    "11.  Crea una clase \"Motocicleta\" que herede de \"Vehículo\" y tenga\n",
    "atributos adicionales como \"cilindrada\" y \"marca\". Agrega métodos\n",
    "para imprimir la información de la motocicleta"
   ]
  },
  {
   "cell_type": "code",
   "execution_count": 41,
   "metadata": {},
   "outputs": [
    {
     "name": "stdout",
     "output_type": "stream",
     "text": [
      "Yamaha YZF-R3 es una moto de 321 cc, su velocidad maxima es 185 km/h y tiene 43000 km de kilometraje\n"
     ]
    }
   ],
   "source": [
    "class Motocicleta(Vehiculo):\n",
    "    def __init__(self, marca, modelo,cilindrada,velocidad_maxima,kilometraje):\n",
    "        super().__init__(marca, modelo)\n",
    "        self.cilindrada = cilindrada\n",
    "        self.velocidad_maxima = velocidad_maxima\n",
    "        self.kilometraje = kilometraje\n",
    "    def get_info(self):\n",
    "        print(f\"{self.marca} {self.modelo} es una moto de {self.cilindrada} cc, su velocidad maxima es {self.velocidad_maxima} km/h y tiene {self.kilometraje} km de kilometraje\")\n",
    "\n",
    "moto1 = Motocicleta(\"Yamaha\",\"YZF-R3\", 321, 185, 43000)\n",
    "moto1.get_info()"
   ]
  },
  {
   "attachments": {},
   "cell_type": "markdown",
   "metadata": {},
   "source": [
    "12. Crea una clase \"Ave\" que herede de \"Animal\" y tenga atributos\n",
    "adicionales como \"especie\" y \"habitat\". Agrega métodos para\n",
    "imprimir la información del ave"
   ]
  },
  {
   "cell_type": "code",
   "execution_count": 48,
   "metadata": {},
   "outputs": [
    {
     "name": "stdout",
     "output_type": "stream",
     "text": [
      "Paco es un ave de la especie loro de 3 años habita en tropicos, y su color principal es verde.\n",
      "Sarah es un ave de la especie gaviota de 5 años, habita principalmente en islas pero es migratoria y su color principal es blanco.\n"
     ]
    }
   ],
   "source": [
    "class Ave(Animal):\n",
    "    def __init__(self, nombre, edad, especie,habitat,color_principal,migracion):\n",
    "        super().__init__(nombre, edad, especie)\n",
    "        self.habitat = habitat\n",
    "        self.color_principal = color_principal\n",
    "        self.migracion = migracion\n",
    "    def get_info(self):\n",
    "        if self.migracion == False:\n",
    "            print(f\"{self.nombre} es un ave de la especie {self.especie} de {self.edad} años habita en {self.habitat}, y su color principal es {self.color_principal}.\")\n",
    "        else:\n",
    "            print(f\"{self.nombre} es un ave de la especie {self.especie} de {self.edad} años, habita principalmente en {self.habitat} pero es migratoria y su color principal es {self.color_principal}.\")\n",
    "    \n",
    "ave1 = Ave(\"Paco\",3,\"loro\",\"tropicos\",\"verde\",False)\n",
    "ave1.get_info()\n",
    "ave2 = Ave(\"Sarah\",5,\"gaviota\",\"islas\",\"blanco\",True)\n",
    "ave2.get_info()"
   ]
  },
  {
   "attachments": {},
   "cell_type": "markdown",
   "metadata": {},
   "source": [
    "13. Crea una clase \"Cliente\" que herede de \"Persona\" y tenga atributos\n",
    "adicionales como \"direccion\" y \"telefono\". Agrega métodos para\n",
    "imprimir la información del cliente."
   ]
  },
  {
   "cell_type": "code",
   "execution_count": 54,
   "metadata": {},
   "outputs": [
    {
     "name": "stdout",
     "output_type": "stream",
     "text": [
      "El cliente Juan Perez cuenta con los siguientes datos:\n",
      "Edad: 20\n",
      "Dirección: Calle 123\n",
      "Tel: 15-401342\n",
      "Dni: 12.123.345\n",
      "Localidad: Ushuaia\n"
     ]
    }
   ],
   "source": [
    "class Cliente(Persona):\n",
    "    def __init__(self, nombre, apellido, edad,direccion,telefono,dni,localidad):\n",
    "        super().__init__(nombre, edad)\n",
    "        self.apellido = apellido\n",
    "        self.dni = dni\n",
    "        self.direccion = direccion\n",
    "        self.telefono = telefono\n",
    "        self.localidad = localidad\n",
    "    def get_info(self):\n",
    "        print(f\"El cliente {self.nombre} {self.apellido} cuenta con los siguientes datos:\\nEdad: {self.edad}\\nDirección: {self.direccion}\\nTel: {self.telefono}\\nDni: {self.dni}\\nLocalidad: {self.localidad}\")\n",
    "    \n",
    "cliente1 = Cliente (\"Juan\",\"Perez\",20,\"Calle 123\", \"15-401342\",\"12.123.345\",\"Ushuaia\")\n",
    "cliente1.get_info()"
   ]
  },
  {
   "attachments": {},
   "cell_type": "markdown",
   "metadata": {},
   "source": [
    "14. Crea una clase \"Bicicleta\" que herede de \"Vehículo\" y tenga atributos\n",
    "adicionales como \"tipo\""
   ]
  },
  {
   "cell_type": "code",
   "execution_count": 56,
   "metadata": {},
   "outputs": [
    {
     "name": "stdout",
     "output_type": "stream",
     "text": [
      "Zenit Andes es una bicicleta Mountain bike de color Amarillo de rodado 29 que cuenta con 24 cambios.\n"
     ]
    }
   ],
   "source": [
    "class Bicicleta(Vehiculo):\n",
    "    def __init__(self, marca, modelo, tipo, color, rodado,cambios):\n",
    "        super().__init__(marca, modelo)\n",
    "        self.tipo = tipo\n",
    "        self.color = color\n",
    "        self.rodado = rodado\n",
    "        self.cambios = cambios\n",
    "    def get_info(self):\n",
    "        print(f\"{self.marca} {self.modelo} es una bicicleta {self.tipo} de color {self.color} de rodado {self.rodado} que cuenta con {self.cambios} cambios.\")\n",
    "\n",
    "bici1 = Bicicleta(\"Zenit\",\"Andes\", \"Mountain bike\",\"Amarillo\", 29, 24)\n",
    "bici1.get_info()"
   ]
  }
 ],
 "metadata": {
  "kernelspec": {
   "display_name": "Python 3",
   "language": "python",
   "name": "python3"
  },
  "language_info": {
   "codemirror_mode": {
    "name": "ipython",
    "version": 3
   },
   "file_extension": ".py",
   "mimetype": "text/x-python",
   "name": "python",
   "nbconvert_exporter": "python",
   "pygments_lexer": "ipython3",
   "version": "3.11.3"
  },
  "orig_nbformat": 4
 },
 "nbformat": 4,
 "nbformat_minor": 2
}
