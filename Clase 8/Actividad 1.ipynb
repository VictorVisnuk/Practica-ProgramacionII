{
 "cells": [
  {
   "attachments": {},
   "cell_type": "markdown",
   "metadata": {},
   "source": [
    "## Actividad N°1 #"
   ]
  },
  {
   "attachments": {},
   "cell_type": "markdown",
   "metadata": {},
   "source": [
    "1."
   ]
  },
  {
   "cell_type": "code",
   "execution_count": 2,
   "metadata": {},
   "outputs": [],
   "source": [
    "def usuario(nombre):\n",
    "    return (f\"Bienvendio al sistema {nombre}\")"
   ]
  },
  {
   "attachments": {},
   "cell_type": "markdown",
   "metadata": {},
   "source": [
    "2."
   ]
  },
  {
   "cell_type": "code",
   "execution_count": 3,
   "metadata": {},
   "outputs": [
    {
     "data": {
      "text/plain": [
       "'Bienvendio al sistema Victor'"
      ]
     },
     "execution_count": 3,
     "metadata": {},
     "output_type": "execute_result"
    }
   ],
   "source": [
    "usuario(\"Victor\")"
   ]
  },
  {
   "attachments": {},
   "cell_type": "markdown",
   "metadata": {},
   "source": [
    "3."
   ]
  },
  {
   "cell_type": "code",
   "execution_count": 6,
   "metadata": {},
   "outputs": [],
   "source": [
    "def suma(num1,num2):\n",
    "    return num1 + num2"
   ]
  },
  {
   "attachments": {},
   "cell_type": "markdown",
   "metadata": {},
   "source": [
    "4."
   ]
  },
  {
   "cell_type": "code",
   "execution_count": 12,
   "metadata": {},
   "outputs": [],
   "source": [
    "def operacion(num1,num2,operacion):\n",
    "    operacion = operacion.lower()\n",
    "    if operacion == \"suma\":\n",
    "        return num1+num2\n",
    "    elif operacion == \"resta\":\n",
    "        return num1 - num2\n",
    "    elif operacion == \"multiplicacion\":\n",
    "        return num1 * num2\n",
    "    elif operacion == \"division\":\n",
    "        return num1/num2\n",
    "    else:\n",
    "        return (\"Operacion no soportada\")"
   ]
  },
  {
   "attachments": {},
   "cell_type": "markdown",
   "metadata": {},
   "source": [
    "5."
   ]
  },
  {
   "cell_type": "code",
   "execution_count": 14,
   "metadata": {},
   "outputs": [],
   "source": [
    "def pesos_a_dolares (pesos,valor_dolar):\n",
    "    return pesos * valor_dolar\n"
   ]
  },
  {
   "attachments": {},
   "cell_type": "markdown",
   "metadata": {},
   "source": [
    "6."
   ]
  },
  {
   "cell_type": "code",
   "execution_count": 16,
   "metadata": {},
   "outputs": [
    {
     "data": {
      "text/plain": [
       "(5, 7)"
      ]
     },
     "execution_count": 16,
     "metadata": {},
     "output_type": "execute_result"
    }
   ],
   "source": [
    "def suma_positivos_negativos(*args):\n",
    "    positivos = 0\n",
    "    negativos = 0\n",
    "    for num in args:\n",
    "        if num >= 0:\n",
    "            positivos +=num\n",
    "        else:\n",
    "            negativos += abs(num)\n",
    "    return (positivos,negativos)\n",
    "suma_positivos_negativos(1,2,-3,2,-4)\n",
    "        "
   ]
  },
  {
   "attachments": {},
   "cell_type": "markdown",
   "metadata": {},
   "source": [
    "7."
   ]
  },
  {
   "cell_type": "code",
   "execution_count": 28,
   "metadata": {},
   "outputs": [],
   "source": [
    "def es_primo (num):\n",
    "    if num <= 1:\n",
    "        primo = False\n",
    "        return primo\n",
    "    primo = True\n",
    "    for d in range(2,num):\n",
    "        if num % d == 0:\n",
    "            primo = False\n",
    "    return primo"
   ]
  },
  {
   "attachments": {},
   "cell_type": "markdown",
   "metadata": {},
   "source": [
    "8."
   ]
  },
  {
   "cell_type": "code",
   "execution_count": 33,
   "metadata": {},
   "outputs": [],
   "source": [
    "def mayor_y_menor (lista_numeros:list):\n",
    "    mayor = lista_numeros[0]\n",
    "    menor = lista_numeros[0]\n",
    "    for num in lista_numeros:\n",
    "        if num > mayor:\n",
    "            mayor = num\n",
    "        if num < menor:\n",
    "            menor = num\n",
    "    return(mayor,menor)\n"
   ]
  }
 ],
 "metadata": {
  "kernelspec": {
   "display_name": "Python 3",
   "language": "python",
   "name": "python3"
  },
  "language_info": {
   "codemirror_mode": {
    "name": "ipython",
    "version": 3
   },
   "file_extension": ".py",
   "mimetype": "text/x-python",
   "name": "python",
   "nbconvert_exporter": "python",
   "pygments_lexer": "ipython3",
   "version": "3.11.3"
  },
  "orig_nbformat": 4
 },
 "nbformat": 4,
 "nbformat_minor": 2
}
