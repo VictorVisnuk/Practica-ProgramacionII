{
 "cells": [
  {
   "attachments": {},
   "cell_type": "markdown",
   "metadata": {},
   "source": [
    "# Ejercicios repaso primera 5 clases "
   ]
  },
  {
   "attachments": {},
   "cell_type": "markdown",
   "metadata": {},
   "source": [
    "1) Crear una lista que contenga nombres de ciudades del mundo que contenga más de 5 elementos e imprimir por pantalla\n"
   ]
  },
  {
   "cell_type": "code",
   "execution_count": 48,
   "metadata": {},
   "outputs": [
    {
     "name": "stdout",
     "output_type": "stream",
     "text": [
      "['Londres', 'Praga', 'Sochi', 'New York', 'Barcelona', 'Atenas']\n"
     ]
    }
   ],
   "source": [
    "ciudades = [\"Londres\", \"Praga\", \"Sochi\", \"New York\",\"Barcelona\",\"Atenas\"]\n",
    "print(ciudades)"
   ]
  },
  {
   "attachments": {},
   "cell_type": "markdown",
   "metadata": {},
   "source": [
    "2) Imprimir por pantalla el segundo elemento de la lista"
   ]
  },
  {
   "cell_type": "code",
   "execution_count": 49,
   "metadata": {},
   "outputs": [
    {
     "name": "stdout",
     "output_type": "stream",
     "text": [
      "Praga\n"
     ]
    }
   ],
   "source": [
    "print(ciudades[1])"
   ]
  },
  {
   "attachments": {},
   "cell_type": "markdown",
   "metadata": {},
   "source": [
    "3) Imprimir por pantalla del segundo al cuarto elemento\n"
   ]
  },
  {
   "cell_type": "code",
   "execution_count": 50,
   "metadata": {},
   "outputs": [
    {
     "name": "stdout",
     "output_type": "stream",
     "text": [
      "['Praga', 'Sochi', 'New York']\n"
     ]
    }
   ],
   "source": [
    "print(ciudades[1:4])"
   ]
  },
  {
   "attachments": {},
   "cell_type": "markdown",
   "metadata": {},
   "source": [
    "4) Agregar una ciudad más a la lista que ya exista y otra que no ¿Arroja algún tipo de error?"
   ]
  },
  {
   "cell_type": "code",
   "execution_count": 51,
   "metadata": {},
   "outputs": [
    {
     "name": "stdout",
     "output_type": "stream",
     "text": [
      "['Londres', 'Praga', 'Sochi', 'New York', 'Barcelona', 'Atenas', 'Praga', 'Cordoba']\n"
     ]
    }
   ],
   "source": [
    "ciudades.append(\"Praga\")\n",
    "ciudades.append(\"Cordoba\")\n",
    "print(ciudades)"
   ]
  },
  {
   "attachments": {},
   "cell_type": "markdown",
   "metadata": {},
   "source": [
    "5) Agregar otra ciudad, pero en la cuarta posición"
   ]
  },
  {
   "cell_type": "code",
   "execution_count": 52,
   "metadata": {},
   "outputs": [
    {
     "name": "stdout",
     "output_type": "stream",
     "text": [
      "['Londres', 'Praga', 'Sochi', 'Lima', 'New York', 'Barcelona', 'Atenas', 'Praga', 'Cordoba']\n"
     ]
    }
   ],
   "source": [
    "ciudades.insert(3,\"Lima\")\n",
    "print(ciudades)"
   ]
  },
  {
   "attachments": {},
   "cell_type": "markdown",
   "metadata": {},
   "source": [
    "6) Concatenar otra lista a la ya creada"
   ]
  },
  {
   "cell_type": "code",
   "execution_count": 53,
   "metadata": {},
   "outputs": [
    {
     "name": "stdout",
     "output_type": "stream",
     "text": [
      "['Londres', 'Praga', 'Sochi', 'Lima', 'New York', 'Barcelona', 'Atenas', 'Praga', 'Cordoba', 'Caracas', 'Rio de Janeiro', 'Roma']\n"
     ]
    }
   ],
   "source": [
    "mas_ciudades=[\"Caracas\",\"Rio de Janeiro\",\"Roma\"]\n",
    "ciudades.extend(mas_ciudades)\n",
    "print(ciudades)"
   ]
  },
  {
   "attachments": {},
   "cell_type": "markdown",
   "metadata": {},
   "source": [
    "7) Crear una tupla que contenga los números enteros del 1 al 20"
   ]
  },
  {
   "cell_type": "code",
   "execution_count": 54,
   "metadata": {},
   "outputs": [
    {
     "name": "stdout",
     "output_type": "stream",
     "text": [
      "(1, 2, 3, 4, 5, 6, 7, 8, 9, 10, 11, 12, 13, 14, 15, 16, 17, 18, 19, 20)\n"
     ]
    }
   ],
   "source": [
    "enteros_hasta_20 = tuple(range(1,21))\n",
    "print(enteros_hasta_20)"
   ]
  },
  {
   "attachments": {},
   "cell_type": "markdown",
   "metadata": {},
   "source": [
    "8) Imprimir desde el índice 10 al 15 de la tupla"
   ]
  },
  {
   "cell_type": "code",
   "execution_count": 55,
   "metadata": {},
   "outputs": [
    {
     "name": "stdout",
     "output_type": "stream",
     "text": [
      "(11, 12, 13, 14, 15, 16)\n"
     ]
    }
   ],
   "source": [
    "print(enteros_hasta_20[10:16])"
   ]
  },
  {
   "attachments": {},
   "cell_type": "markdown",
   "metadata": {},
   "source": [
    "9) Desempaquetar solo los primeros 3 elementos de la tupla en 3 variables"
   ]
  },
  {
   "cell_type": "code",
   "execution_count": 56,
   "metadata": {},
   "outputs": [
    {
     "name": "stdout",
     "output_type": "stream",
     "text": [
      "1 2 3\n"
     ]
    }
   ],
   "source": [
    "uno,dos,tres,*cuatro_a_veinte = enteros_hasta_20\n",
    "print(uno,dos,tres)"
   ]
  },
  {
   "attachments": {},
   "cell_type": "markdown",
   "metadata": {},
   "source": [
    "10) Crear un diccionario utilizando la lista crada en el punto 1, asignandole la clave \"ciudad\". Agregar tambien otras claves, como puede ser \"Pais\" y \"Continente\"."
   ]
  },
  {
   "cell_type": "code",
   "execution_count": 74,
   "metadata": {},
   "outputs": [
    {
     "name": "stdout",
     "output_type": "stream",
     "text": [
      "{'Londres': ('Londres', 'Inglaterra', 'Europa'), 'Praga': ('Praga', 'Republica Checa', 'Europa'), 'Sochi': ('Sochi', 'Rusia', 'Europa'), 'Lima': ('Lima', 'Perú', 'America'), 'New York': ('New York', 'Estados Unidos', 'America'), 'Barcelona': ('Barcelona', 'España', 'Europa'), 'Atenas': ('Atenas', 'Grecia', 'Europa'), 'Cordoba': ('Cordoba', 'Argentina', 'America'), 'Caracas': ('Caracas', 'Venezuela', 'America'), 'Rio de Janeiro': ('Rio de Janeiro', 'Brasil', 'America'), 'Roma': ('Roma', 'Italia', 'Europa')}\n"
     ]
    }
   ],
   "source": [
    "paises=[\"Inglaterra\",\"Republica Checha\",\"Rusia\",\"Perú\",\"Estados Unidos\",\"España\",\"Grecia\",\"Republica Checa\",\"Argentina\",\"Venezuela\",\"Brasil\",\"Italia\"]\n",
    "continentes=[\"Europa\",\"Europa\",\"Europa\",\"America\",\"America\",\"Europa\",\"Europa\",\"Europa\",\"America\",\"America\",\"America\",\"Europa\"]\n",
    "diccionario_ciudades=dict(zip(ciudades,zip(ciudades,paises,continentes)))\n",
    "print(diccionario_ciudades)\n"
   ]
  },
  {
   "attachments": {},
   "cell_type": "markdown",
   "metadata": {},
   "source": [
    "11) Imprimir las claves del diccionario"
   ]
  },
  {
   "cell_type": "code",
   "execution_count": 70,
   "metadata": {},
   "outputs": [
    {
     "name": "stdout",
     "output_type": "stream",
     "text": [
      "dict_keys(['Londres', 'Praga', 'Sochi', 'Lima', 'New York', 'Barcelona', 'Atenas', 'Cordoba', 'Caracas', 'Rio de Janeiro', 'Roma'])\n"
     ]
    }
   ],
   "source": [
    "print(diccionario_ciudades.keys())"
   ]
  },
  {
   "attachments": {},
   "cell_type": "markdown",
   "metadata": {},
   "source": [
    "12) Imprimir las ciudades a través de su clave"
   ]
  },
  {
   "cell_type": "code",
   "execution_count": 71,
   "metadata": {},
   "outputs": [
    {
     "name": "stdout",
     "output_type": "stream",
     "text": [
      "('Londres', 'Inglaterra', 'Europa')\n",
      "('Praga', 'Republica Checa', 'Europa')\n",
      "('Sochi', 'Rusia', 'Europa')\n",
      "('Lima', 'Perú', 'America')\n",
      "('New York', 'Estados Unidos', 'America')\n",
      "('Barcelona', 'España', 'Europa')\n",
      "('Atenas', 'Grecia', 'Europa')\n",
      "('Cordoba', 'Argentina', 'America')\n",
      "('Caracas', 'Venezuela', 'America')\n",
      "('Rio de Janeiro', 'Brasil', 'America')\n",
      "('Roma', 'Italia', 'Europa')\n"
     ]
    }
   ],
   "source": [
    "for key in diccionario_ciudades.keys():\n",
    "    print(diccionario_ciudades[key])"
   ]
  },
  {
   "attachments": {},
   "cell_type": "markdown",
   "metadata": {},
   "source": [
    "13) Crear una variable que contenga un elemento del conjunto de números enteros y luego imprimir por pantalla si es mayor o menor a cero"
   ]
  },
  {
   "cell_type": "code",
   "execution_count": 77,
   "metadata": {},
   "outputs": [
    {
     "name": "stdout",
     "output_type": "stream",
     "text": [
      "123 es mayor a cero\n"
     ]
    }
   ],
   "source": [
    "entero = 123\n",
    "if entero > 0:\n",
    "    print(f\"{entero} es mayor a cero\")\n",
    "else:\n",
    "    print(f\"{entero} es menor a cero\")"
   ]
  },
  {
   "attachments": {},
   "cell_type": "markdown",
   "metadata": {},
   "source": [
    "14) Crear dos variables y un condicional que informe si son del mismo tipo de dato"
   ]
  },
  {
   "cell_type": "code",
   "execution_count": 81,
   "metadata": {},
   "outputs": [
    {
     "name": "stdout",
     "output_type": "stream",
     "text": [
      "Las dos variables son de tipos de dato diferente\n"
     ]
    }
   ],
   "source": [
    "variable1 = 12.3\n",
    "variable2 = \"cadena\"\n",
    "\n",
    "if type(variable1) == type(variable2):\n",
    "    print(\"Las dos variables son del mismo tipo de dato\")\n",
    "else:\n",
    "    print(\"Las dos variables son de tipos de dato diferente\")"
   ]
  },
  {
   "attachments": {},
   "cell_type": "markdown",
   "metadata": {},
   "source": [
    "15) Para los valores enteros del 1 al 20, imprimir por pantalla si es par o impar"
   ]
  },
  {
   "cell_type": "code",
   "execution_count": 82,
   "metadata": {},
   "outputs": [
    {
     "name": "stdout",
     "output_type": "stream",
     "text": [
      "1 es impar\n",
      "2 es par\n",
      "3 es impar\n",
      "4 es par\n",
      "5 es impar\n",
      "6 es par\n",
      "7 es impar\n",
      "8 es par\n",
      "9 es impar\n",
      "10 es par\n",
      "11 es impar\n",
      "12 es par\n",
      "13 es impar\n",
      "14 es par\n",
      "15 es impar\n",
      "16 es par\n",
      "17 es impar\n",
      "18 es par\n",
      "19 es impar\n",
      "20 es par\n"
     ]
    }
   ],
   "source": [
    "for num in range (1,21):\n",
    "    if num %2 == 0:\n",
    "        print(f\"{num} es par\")\n",
    "    else:\n",
    "        print(f\"{num} es impar\")"
   ]
  },
  {
   "attachments": {},
   "cell_type": "markdown",
   "metadata": {},
   "source": [
    "16) En un ciclo for mostrar para los valores entre 0 y 5 el resultado de elevarlo a la potencia igual a 3"
   ]
  },
  {
   "cell_type": "code",
   "execution_count": 88,
   "metadata": {},
   "outputs": [
    {
     "name": "stdout",
     "output_type": "stream",
     "text": [
      "0 al cubo es igual a 0\n",
      "1 al cubo es igual a 1\n",
      "2 al cubo es igual a 8\n",
      "3 al cubo es igual a 27\n",
      "4 al cubo es igual a 64\n"
     ]
    }
   ],
   "source": [
    "for num in range(5):\n",
    "    print(f\"{num} al cubo es igual a {num**3}\")"
   ]
  },
  {
   "attachments": {},
   "cell_type": "markdown",
   "metadata": {},
   "source": [
    "17) Crear una variable que contenga un número entero y realizar un ciclo for la misma cantidad de ciclos"
   ]
  },
  {
   "cell_type": "code",
   "execution_count": 91,
   "metadata": {},
   "outputs": [
    {
     "name": "stdout",
     "output_type": "stream",
     "text": [
      "Este es el 1° ciclo\n",
      "Este es el 2° ciclo\n",
      "Este es el 3° ciclo\n",
      "Este es el 4° ciclo\n",
      "Este es el 5° ciclo\n",
      "Este es el 6° ciclo\n",
      "Este es el 7° ciclo\n",
      "Este es el 8° ciclo\n",
      "Este es el 9° ciclo\n",
      "Este es el 10° ciclo\n",
      "Este es el 11° ciclo\n",
      "Este es el 12° ciclo\n"
     ]
    }
   ],
   "source": [
    "entero = 12\n",
    "for i in range(entero):\n",
    "    print(f\"Este es el {i+1}° ciclo\")"
   ]
  },
  {
   "attachments": {},
   "cell_type": "markdown",
   "metadata": {},
   "source": [
    "18) Utilizar un ciclo while para realizar el factorial de un número guardado en una variable, sólo si la variable contiene un número entero mayor a 0"
   ]
  },
  {
   "cell_type": "code",
   "execution_count": 105,
   "metadata": {},
   "outputs": [
    {
     "name": "stdout",
     "output_type": "stream",
     "text": [
      "5040\n"
     ]
    }
   ],
   "source": [
    "numero = 7\n",
    "factorial = 1\n",
    "while numero > 0:\n",
    "    factorial *= numero\n",
    "    numero -=1\n",
    "print(factorial)"
   ]
  },
  {
   "attachments": {},
   "cell_type": "markdown",
   "metadata": {},
   "source": [
    "19) Aplicando continue, armar un ciclo while que solo imprima los valores divisibles por 12, dentro del rango de números de 100 a 300"
   ]
  },
  {
   "cell_type": "code",
   "execution_count": 109,
   "metadata": {},
   "outputs": [
    {
     "name": "stdout",
     "output_type": "stream",
     "text": [
      "108\n",
      "120\n",
      "132\n",
      "144\n",
      "156\n",
      "168\n",
      "180\n",
      "192\n",
      "204\n",
      "216\n",
      "228\n",
      "240\n",
      "252\n",
      "264\n",
      "276\n",
      "288\n",
      "300\n"
     ]
    }
   ],
   "source": [
    "i = 100\n",
    "while i <= 300:\n",
    "    if i % 12 != 0:\n",
    "        i +=1\n",
    "        continue\n",
    "    else:\n",
    "        print(i)\n",
    "        i +=1\n",
    "    "
   ]
  },
  {
   "attachments": {},
   "cell_type": "markdown",
   "metadata": {},
   "source": [
    "20) Crear un ciclo while que encuentre dentro del rango de 100 a 300 el primer número divisible por 3 y además múltiplo de 6"
   ]
  },
  {
   "cell_type": "code",
   "execution_count": 112,
   "metadata": {},
   "outputs": [
    {
     "name": "stdout",
     "output_type": "stream",
     "text": [
      "102\n"
     ]
    }
   ],
   "source": [
    "i = 100\n",
    "while i <=300:\n",
    "    if i %3 == 0 and i %6 ==0:\n",
    "        print (i)\n",
    "        break\n",
    "    i +=1"
   ]
  },
  {
   "attachments": {},
   "cell_type": "markdown",
   "metadata": {},
   "source": [
    "21) A partir de la variable cadena ya dada, mostrar en qué posiciones aparece la letra \"n\" **cadena** = 'Hola Mundo. Esto es una practica del lenguaje de programación Python'"
   ]
  },
  {
   "cell_type": "code",
   "execution_count": 129,
   "metadata": {},
   "outputs": [
    {
     "name": "stdout",
     "output_type": "stream",
     "text": [
      "[7]\n"
     ]
    }
   ],
   "source": [
    "cadena = \"Hola Mundo\"\n",
    "indices = []\n",
    "cadena_1 = enumerate(cadena)\n",
    "for i in cadena_1:\n",
    "    if i[1] == \"n\":\n",
    "        indices.append(i[0])\n",
    "print(indices)"
   ]
  },
  {
   "attachments": {},
   "cell_type": "markdown",
   "metadata": {},
   "source": [
    "22) Convertir en una lista la variable \"cadena\" del punto anterior y luego recorrerla con un iterador"
   ]
  },
  {
   "cell_type": "code",
   "execution_count": 130,
   "metadata": {},
   "outputs": [
    {
     "name": "stdout",
     "output_type": "stream",
     "text": [
      "H\n",
      "o\n",
      "l\n",
      "a\n",
      " \n",
      "M\n",
      "u\n",
      "n\n",
      "d\n",
      "o\n"
     ]
    }
   ],
   "source": [
    "lista_cadena = list(cadena)\n",
    "for e in lista_cadena:\n",
    "    print(e)"
   ]
  }
 ],
 "metadata": {
  "kernelspec": {
   "display_name": "Python 3",
   "language": "python",
   "name": "python3"
  },
  "language_info": {
   "codemirror_mode": {
    "name": "ipython",
    "version": 3
   },
   "file_extension": ".py",
   "mimetype": "text/x-python",
   "name": "python",
   "nbconvert_exporter": "python",
   "pygments_lexer": "ipython3",
   "version": "3.11.3"
  },
  "orig_nbformat": 4
 },
 "nbformat": 4,
 "nbformat_minor": 2
}
